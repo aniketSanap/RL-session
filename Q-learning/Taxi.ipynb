{
 "cells": [
  {
   "cell_type": "code",
   "execution_count": 4,
   "metadata": {},
   "outputs": [],
   "source": [
    "import numpy as np\n",
    "import gym\n",
    "import random"
   ]
  },
  {
   "cell_type": "code",
   "execution_count": 5,
   "metadata": {},
   "outputs": [
    {
     "name": "stdout",
     "output_type": "stream",
     "text": [
      "+---------+\n",
      "|\u001b[34;1mR\u001b[0m:\u001b[43m \u001b[0m| : :\u001b[35mG\u001b[0m|\n",
      "| : : : : |\n",
      "| : : : : |\n",
      "| | : | : |\n",
      "|Y| : |B: |\n",
      "+---------+\n",
      "\n"
     ]
    }
   ],
   "source": [
    "# Making the game environment\n",
    "env = gym.make('Taxi-v2')\n",
    "env.render()"
   ]
  },
  {
   "cell_type": "code",
   "execution_count": 6,
   "metadata": {},
   "outputs": [],
   "source": [
    "# Initializing\n",
    "totalActions = env.action_space.n\n",
    "totalStates = env.observation_space.n\n",
    "learningRate = 0.1\n",
    "gamma = 0.8\n",
    "epsilon = 1           # Exploration vs exploitation\n",
    "maxEpsilon = 1\n",
    "decayRate = 0.01      # To reduce gamma with every episode\n",
    "minEpsilon = 0.01\n",
    "totalTrainEpisodes = 50000\n",
    "totalTestEpisodes = 1\n",
    "totalSteps = 99         # Total steps in every episodes\n",
    "qTable = np.zeros((totalStates, totalActions))"
   ]
  },
  {
   "cell_type": "code",
   "execution_count": 7,
   "metadata": {},
   "outputs": [],
   "source": [
    "# For training\n",
    "for eachEpisode in range(totalTrainEpisodes):\n",
    "    state = env.reset()\n",
    "    eachStep = 0\n",
    "    done = False\n",
    "    \n",
    "    for eachStep in range(totalSteps):\n",
    "        rNumber = random.random()\n",
    "        action = 0\n",
    "        if rNumber < epsilon:\n",
    "            action = env.action_space.sample()\n",
    "        else:\n",
    "            action = np.argmax(qTable[state, :])\n",
    "            \n",
    "        newState, reward, done, info = env.step(action)\n",
    "        \n",
    "        # Updating value in qTable\n",
    "        qTable[state, action] = qTable[state, action] + learningRate * (reward + gamma * np.max(qTable[newState, :] - qTable[state, action]))\n",
    "        state = newState\n",
    "        if done == True:\n",
    "            break\n",
    "        \n",
    "    epsilon = minEpsilon + (maxEpsilon - minEpsilon) * np.exp(-decayRate*eachEpisode)"
   ]
  },
  {
   "cell_type": "code",
   "execution_count": 10,
   "metadata": {},
   "outputs": [
    {
     "name": "stdout",
     "output_type": "stream",
     "text": [
      "+---------+\n",
      "|\u001b[34;1mR\u001b[0m:\u001b[43m \u001b[0m| : :\u001b[35mG\u001b[0m|\n",
      "| : : : : |\n",
      "| : : : : |\n",
      "| | : | : |\n",
      "|Y| : |B: |\n",
      "+---------+\n",
      "\n",
      "+---------+\n",
      "|\u001b[34;1m\u001b[43mR\u001b[0m\u001b[0m: | : :\u001b[35mG\u001b[0m|\n",
      "| : : : : |\n",
      "| : : : : |\n",
      "| | : | : |\n",
      "|Y| : |B: |\n",
      "+---------+\n",
      "  (West)\n",
      "+---------+\n",
      "|\u001b[42mR\u001b[0m: | : :\u001b[35mG\u001b[0m|\n",
      "| : : : : |\n",
      "| : : : : |\n",
      "| | : | : |\n",
      "|Y| : |B: |\n",
      "+---------+\n",
      "  (Pickup)\n",
      "+---------+\n",
      "|R:\u001b[42m_\u001b[0m| : :\u001b[35mG\u001b[0m|\n",
      "| : : : : |\n",
      "| : : : : |\n",
      "| | : | : |\n",
      "|Y| : |B: |\n",
      "+---------+\n",
      "  (East)\n",
      "+---------+\n",
      "|R: | : :\u001b[35mG\u001b[0m|\n",
      "| :\u001b[42m_\u001b[0m: : : |\n",
      "| : : : : |\n",
      "| | : | : |\n",
      "|Y| : |B: |\n",
      "+---------+\n",
      "  (South)\n",
      "+---------+\n",
      "|R: | : :\u001b[35mG\u001b[0m|\n",
      "| : :\u001b[42m_\u001b[0m: : |\n",
      "| : : : : |\n",
      "| | : | : |\n",
      "|Y| : |B: |\n",
      "+---------+\n",
      "  (East)\n",
      "+---------+\n",
      "|R: | : :\u001b[35mG\u001b[0m|\n",
      "| : : :\u001b[42m_\u001b[0m: |\n",
      "| : : : : |\n",
      "| | : | : |\n",
      "|Y| : |B: |\n",
      "+---------+\n",
      "  (East)\n",
      "+---------+\n",
      "|R: | :\u001b[42m_\u001b[0m:\u001b[35mG\u001b[0m|\n",
      "| : : : : |\n",
      "| : : : : |\n",
      "| | : | : |\n",
      "|Y| : |B: |\n",
      "+---------+\n",
      "  (North)\n",
      "+---------+\n",
      "|R: | : :\u001b[35m\u001b[42mG\u001b[0m\u001b[0m|\n",
      "| : : : : |\n",
      "| : : : : |\n",
      "| | : | : |\n",
      "|Y| : |B: |\n",
      "+---------+\n",
      "  (East)\n",
      "Average score = 12.0\n"
     ]
    }
   ],
   "source": [
    "rewards = []\n",
    "for eachEpisode in range(totalTestEpisodes):\n",
    "    state = env.reset()\n",
    "    done = False\n",
    "    step = 0\n",
    "    \n",
    "    for eachStep in range(totalSteps):\n",
    "        env.render()\n",
    "        action = np.argmax(qTable[state, :])\n",
    "        newState, reward, done, info = env.step(action)\n",
    "        rewards.append(reward)\n",
    "        if done == True:\n",
    "            break\n",
    "        state = newState\n",
    "        \n",
    "env.close()\n",
    "totalReward = sum(rewards)\n",
    "print(\"Average score = \" + str(totalReward/totalTestEpisodes))\n",
    "        "
   ]
  }
 ],
 "metadata": {
  "kernelspec": {
   "display_name": "Python 3",
   "language": "python",
   "name": "python3"
  },
  "language_info": {
   "codemirror_mode": {
    "name": "ipython",
    "version": 3
   },
   "file_extension": ".py",
   "mimetype": "text/x-python",
   "name": "python",
   "nbconvert_exporter": "python",
   "pygments_lexer": "ipython3",
   "version": "3.6.8"
  }
 },
 "nbformat": 4,
 "nbformat_minor": 2
}
